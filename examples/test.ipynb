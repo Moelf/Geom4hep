{
 "cells": [
  {
   "cell_type": "code",
   "execution_count": 1,
   "metadata": {},
   "outputs": [
    {
     "name": "stderr",
     "output_type": "stream",
     "text": [
      "\u001b[32m\u001b[1m  Activating\u001b[22m\u001b[39m environment at `~/Development/VecGeom/Geom4hep/Project.toml`\n",
      "┌ Info: Precompiling Geom4hep [eb5d0804-93e0-431a-a4d4-b4f95b95575a]\n",
      "└ @ Base loading.jl:1342\n"
     ]
    }
   ],
   "source": [
    "using Pkg; Pkg.activate(\"..\")\n",
    "using Revise\n",
    "using StaticArrays, LinearAlgebra, BenchmarkTools\n",
    "using Geom4hep"
   ]
  },
  {
   "cell_type": "code",
   "execution_count": 3,
   "metadata": {},
   "outputs": [
    {
     "data": {
      "text/plain": [
       "Triangle{Float64}([1.0, 0.0, 0.0], [-1.0, 1.0, 0.0], [-1.0, 0.0, 1.0], [1.0, 1.0, 1.0], 2.0, 2.0, 1.0, -3.0)"
      ]
     },
     "execution_count": 3,
     "metadata": {},
     "output_type": "execute_result"
    }
   ],
   "source": [
    "a = Point3{Float64}(1,0,0)\n",
    "b = Point3{Float64}(0,1,0)\n",
    "c = Point3{Float64}(0,0,1)\n",
    "p = Point3{Float64}(3,3,3)\n",
    "d = normalize(Vector3(-1,-1,-1))\n",
    "t = Triangle{Float64}(a,b,c)\n"
   ]
  },
  {
   "cell_type": "code",
   "execution_count": 20,
   "metadata": {},
   "outputs": [
    {
     "name": "stdout",
     "output_type": "stream",
     "text": [
      "  4.309 ns (0 allocations: 0 bytes)\n"
     ]
    },
    {
     "data": {
      "text/plain": [
       "(0.0, false)"
      ]
     },
     "execution_count": 20,
     "metadata": {},
     "output_type": "execute_result"
    }
   ],
   "source": [
    "@btime intersect($p,$d,$t; out=false)\n",
    "\n",
    "\n"
   ]
  },
  {
   "cell_type": "code",
   "execution_count": 5,
   "metadata": {},
   "outputs": [
    {
     "data": {
      "text/plain": [
       "3-element SVector{3, Float64} with indices SOneTo(3):\n",
       " 1.0\n",
       " 0.0\n",
       " 0.0"
      ]
     },
     "execution_count": 5,
     "metadata": {},
     "output_type": "execute_result"
    }
   ],
   "source": [
    "b1 = Box{Float64}(1,1,1)\n",
    "b2 = TBox{Float64}(1,1,1)\n",
    "t1 = Trd{Float64}(1,2,1,2,2)\n",
    "t2 = TTrd{Float64}(1,2,1,2,2)\n",
    "p = Point3{Float64}(0,0,0)\n",
    "d = Vector3{Float64}(1,0,0)"
   ]
  },
  {
   "cell_type": "code",
   "execution_count": 18,
   "metadata": {},
   "outputs": [
    {
     "name": "stdout",
     "output_type": "stream",
     "text": [
      "d = Vector3(normalize(rand(3) .- 0.5)) = [-0.3509584591038404, -0.8282786706845411, 0.4367866798249549]\n",
      "distanceToOut(t2, p, d) = 2.0859929722629222\n",
      "distanceToOut(t1, p, d) = 2.0859929722629222\n"
     ]
    },
    {
     "data": {
      "text/plain": [
       "2.0859929722629222"
      ]
     },
     "execution_count": 18,
     "metadata": {},
     "output_type": "execute_result"
    }
   ],
   "source": [
    "@show d = Vector3(normalize(rand(3).- 0.5))\n",
    "@show distanceToOut(t2,p,d)\n",
    "@show distanceToOut(t1,p,d)"
   ]
  },
  {
   "cell_type": "code",
   "execution_count": 9,
   "metadata": {},
   "outputs": [
    {
     "data": {
      "text/plain": [
       "move (generic function with 2 methods)"
      ]
     },
     "execution_count": 9,
     "metadata": {},
     "output_type": "execute_result"
    }
   ],
   "source": [
    "p = Point3{Float64}(0,0,0)\n",
    "d = Vector3{Float64}(1,1,1)\n",
    "function move(p::Point3{T},d::Vector3{T},s::T) where T<:AbstractFloat\n",
    "  Point3{T}(p[1] + s * d[1], p[2] + s * d[2], p[3] + s * d[3])\n",
    "end\n"
   ]
  },
  {
   "cell_type": "code",
   "execution_count": 10,
   "metadata": {},
   "outputs": [
    {
     "name": "stdout",
     "output_type": "stream",
     "text": [
      "  0.050 ns (0 allocations: 0 bytes)\n"
     ]
    },
    {
     "data": {
      "text/plain": [
       "3-element Point3{Float64} with indices SOneTo(3):\n",
       " 10.0\n",
       " 10.0\n",
       " 10.0"
      ]
     },
     "execution_count": 10,
     "metadata": {},
     "output_type": "execute_result"
    }
   ],
   "source": [
    "@btime move($p,$d,10.)"
   ]
  },
  {
   "cell_type": "code",
   "execution_count": null,
   "metadata": {},
   "outputs": [],
   "source": []
  }
 ],
 "metadata": {
  "kernelspec": {
   "display_name": "julia 1.6.2",
   "language": "julia",
   "name": "julia-1.6"
  },
  "language_info": {
   "file_extension": ".jl",
   "mimetype": "application/julia",
   "name": "julia",
   "version": "1.6.2"
  },
  "orig_nbformat": 4
 },
 "nbformat": 4,
 "nbformat_minor": 2
}
