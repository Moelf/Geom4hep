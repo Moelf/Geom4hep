{
 "cells": [
  {
   "cell_type": "code",
   "execution_count": 1,
   "source": [
    "using Pkg; Pkg.activate(\"..\")\n",
    "import Geom4hep"
   ],
   "outputs": [
    {
     "output_type": "stream",
     "name": "stderr",
     "text": [
      "\u001b[32m\u001b[1m  Activating\u001b[22m\u001b[39m environment at `~/Development/VecGeom/Geom4hep/Project.toml`\n",
      "┌ Info: Precompiling Geom4hep [eb5d0804-93e0-431a-a4d4-b4f95b95575a]\n",
      "└ @ Base loading.jl:1342\n"
     ]
    }
   ],
   "metadata": {}
  },
  {
   "cell_type": "code",
   "execution_count": 2,
   "source": [
    "b = Geom4hep.Box(1.,2.,3.)"
   ],
   "outputs": [
    {
     "output_type": "execute_result",
     "data": {
      "text/plain": [
       "Geom4hep.Box{Float64}([1.0, 2.0, 3.0])"
      ]
     },
     "metadata": {},
     "execution_count": 2
    }
   ],
   "metadata": {}
  },
  {
   "cell_type": "code",
   "execution_count": 9,
   "source": [
    "using Geom4hep\n",
    "using Test\n",
    "pzero = Point(0., 0., 0.)\n",
    "ponxside, ponyside, ponzside = Point(20., 0., 0.), Point(0., 30., 0.), Point(0., 0., 40.)\n",
    "ponmxside, ponmyside, ponmzside = Point(-20., 0., 0.), Point(0., -30., 0.), Point(0., 0., -40.)\n",
    "ponzsidey, ponmzsidey = Point(0., 25., 40.), Point(0., 25., -40.)\n",
    "\n",
    "#  pbigx(100, 0, 0), pbigy(0, 100, 0), pbigz(0, 0, 100);\n",
    "#  pbigmx(-100, 0, 0), pbigmy(0, -100, 0), pbigmz(0, 0, -100);\n",
    "\n",
    "#  vx(1, 0, 0), vy(0, 1, 0), vz(0, 0, 1);\n",
    "#  vmx(-1, 0, 0), vmy(0, -1, 0), vmz(0, 0, -1);\n",
    "#  vxy(1 / std::sqrt(2.0), 1 / std::sqrt(2.0), 0);\n",
    "#  vmxy(-1 / std::sqrt(2.0), 1 / std::sqrt(2.0), 0);\n",
    "#  vmxmy(-1 / std::sqrt(2.0), -1 / std::sqrt(2.0), 0);\n",
    "#  vxmy(1 / std::sqrt(2.0), -1 / std::sqrt(2.0), 0);\n",
    "#  vxmz(1 / std::sqrt(2.0), 0, -1 / std::sqrt(2.0));"
   ],
   "outputs": [],
   "metadata": {}
  },
  {
   "cell_type": "code",
   "execution_count": 4,
   "source": [
    "b1 = Box(20., 30., 40.)\n",
    "b2 = Box(10., 10., 10.)\n",
    "box3 = Box(0.14999999999999999, 24.707000000000001, 22.699999999999999)"
   ],
   "outputs": [
    {
     "output_type": "execute_result",
     "data": {
      "text/plain": [
       "Box{Float64}([0.15, 24.707, 22.7])"
      ]
     },
     "metadata": {},
     "execution_count": 4
    }
   ],
   "metadata": {}
  },
  {
   "cell_type": "code",
   "execution_count": 5,
   "source": [
    "# Volume and Surfaces\n",
    "@test capacity(b2) == 8000\n",
    "@test capacity(b1) == 192000\n",
    "@test surface(b1) == 20800\n",
    "@test surface(b2) == 6 * 20 * 20"
   ],
   "outputs": [
    {
     "output_type": "execute_result",
     "data": {
      "text/plain": [
       "\u001b[32m\u001b[1mTest Passed\u001b[22m\u001b[39m"
      ]
     },
     "metadata": {},
     "execution_count": 5
    }
   ],
   "metadata": {}
  },
  {
   "cell_type": "code",
   "execution_count": 6,
   "source": [
    "# CalculateExtent\n",
    "minExtent, maxExtent = extent(b1)\n",
    "@test minExtent ≈ Point(-20, -30, -40)\n",
    "@test maxExtent ≈ Point(20, 30, 40)\n",
    "minExtent, maxExtent = extent(b2)\n",
    "@test minExtent ≈ Point(-10, -10, -10)\n",
    "@test maxExtent ≈ Point(10, 10, 10)\n"
   ],
   "outputs": [
    {
     "output_type": "execute_result",
     "data": {
      "text/plain": [
       "\u001b[32m\u001b[1mTest Passed\u001b[22m\u001b[39m"
      ]
     },
     "metadata": {},
     "execution_count": 6
    }
   ],
   "metadata": {}
  },
  {
   "cell_type": "code",
   "execution_count": 11,
   "source": [
    "# Check Surface Normal\n",
    "nvect = normal(b1, ponxside)\n",
    "@test normal(b1, ponxside) ≈ Vec(1,0,0)\n",
    "@test normal(b1, ponmxside) ≈ Vec(-1,0,0)\n",
    "@test normal(b1, ponyside) ≈ Vec(0,1,0)\n",
    "@test normal(b1, ponmyside) ≈ Vec(0,-1,0)\n",
    "@test normal(b1, ponzside) ≈ Vec(0,0,1)\n",
    "@test normal(b1, ponmzside) ≈ Vec(0,0,-1)\n",
    "@test normal(b1, ponzsidey) ≈ Vec(0,0,1)\n",
    "@test normal(b1, ponmzsidey) ≈ Vec(0,0,-1)"
   ],
   "outputs": [
    {
     "output_type": "execute_result",
     "data": {
      "text/plain": [
       "\u001b[32m\u001b[1mTest Passed\u001b[22m\u001b[39m"
      ]
     },
     "metadata": {},
     "execution_count": 11
    }
   ],
   "metadata": {}
  },
  {
   "cell_type": "code",
   "execution_count": 25,
   "source": [
    "# Normals on Edges\n",
    "edgeXY = Point(20.0, 30., 0.0)\n",
    "edgemXmY = Point(-20.0, -30., 0.0)\n",
    "edgeXmY = Point(20.0, -30., 0.0)\n",
    "edgemXY = Point(-20.0, 30., 0.0)\n",
    "edgeXZ = Point(20.0, 0.0, 40.0)\n",
    "edgemXmZ = Point(-20.0, 0.0, -40.0)\n",
    "edgeXmZ = Point(20.0, 0.0, -40.0)\n",
    "edgemXZ = Point(-20.0, 0.0, 40.0)\n",
    "edgeYZ = Point(0.0, 30.0, 40.0)\n",
    "edgemYmZ = Point(0.0, -30.0, -40.0)\n",
    "edgeYmZ = Point(0.0, 30.0, -40.0)\n",
    "edgemYZ = Point(0.0, -30.0, 40.0)\n",
    "\n",
    "@test normal(b1, edgeXY) ≈ Vec(1/√2, 1/√2, 0.0)\n",
    "@test normal(b1, edgemXmY) ≈ Vec(-1/√2, -1/√2, 0.0)\n",
    "@test normal(b1, edgeXmY) ≈ Vec(1/√2, -1/√2, 0.0)\n",
    "@test normal(b1, edgemXY) ≈ Vec(-1/√2, 1/√2, 0.0)\n",
    "\n",
    "@test normal(b1, edgeXZ) ≈ Vec(1/√2, 0.0, 1/√2)\n",
    "@test normal(b1, edgemXmZ) ≈ Vec(-1/√2, 0.0, -1/√2)\n",
    "@test normal(b1, edgeXmZ) ≈ Vec(1/√2, 0.0, -1/√2)\n",
    "@test normal(b1, edgemXZ) ≈ Vec(-1/√2, 0.0, 1/√2)\n",
    "\n",
    "@test normal(b1, edgeYZ) ≈ Vec(0.0, 1/√2, 1/√2)\n",
    "@test normal(b1, edgemYmZ) ≈ Vec(0.0, -1/√2, -1/√2)\n",
    "@test normal(b1, edgeYmZ) ≈ Vec(0.0, 1/√2, -1/√2)\n",
    "@test normal(b1, edgemYZ) ≈ Vec(0.0, -1/√2, 1/√2)\n",
    "\n",
    "\n",
    "# Normals on corners\n",
    "cornerXYZ = Point(20.0, 30., 40.0)\n",
    "cornermXYZ = Point(-20.0, 30., 40.0)\n",
    "cornerXmYZ = Point(20.0, -30., 40.0)\n",
    "cornermXmYZ = Point(-20.0, -30., 40.0)\n",
    "cornerXYmZ = Point(20.0, 30., -40.0)\n",
    "cornermXYmZ = Point(-20.0, 30., -40.0)\n",
    "cornerXmYmZ = Point(20.0, -30., -40.0)\n",
    "cornermXmYmZ = Point(-20.0, -30., -40.0)\n",
    "\n",
    "@test normal(b1, cornerXYZ) ≈ Vec(1/√3, 1/√3, 1/√3)\n",
    "@test normal(b1, cornermXYZ) ≈ Vec(-1/√3, 1/√3, 1/√3)\n",
    "@test normal(b1, cornerXmYZ) ≈ Vec(1/√3, -1/√3, 1/√3)\n",
    "@test normal(b1, cornermXmYZ) ≈ Vec(-1/√3, -1/√3, 1/√3)\n",
    "@test normal(b1, cornerXYmZ) ≈ Vec(1/√3, 1/√3, -1/√3)\n",
    "@test normal(b1, cornermXYmZ) ≈ Vec(-1/√3, 1/√3, -1/√3)\n",
    "@test normal(b1, cornerXmYmZ) ≈ Vec(1/√3, -1/√3, -1/√3)\n",
    "@test normal(b1, cornermXmYmZ) ≈ Vec(-1/√3, -1/√3, -1/√3)\n"
   ],
   "outputs": [
    {
     "output_type": "execute_result",
     "data": {
      "text/plain": [
       "\u001b[32m\u001b[1mTest Passed\u001b[22m\u001b[39m"
      ]
     },
     "metadata": {},
     "execution_count": 25
    }
   ],
   "metadata": {}
  },
  {
   "cell_type": "code",
   "execution_count": null,
   "source": [],
   "outputs": [],
   "metadata": {}
  }
 ],
 "metadata": {
  "orig_nbformat": 4,
  "language_info": {
   "file_extension": ".jl",
   "name": "julia",
   "mimetype": "application/julia",
   "version": "1.6.2"
  },
  "kernelspec": {
   "name": "julia-1.6",
   "display_name": "julia 1.6.2",
   "language": "julia"
  }
 },
 "nbformat": 4,
 "nbformat_minor": 2
}