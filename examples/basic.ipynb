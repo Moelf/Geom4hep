{
 "cells": [
  {
   "cell_type": "code",
   "execution_count": 1,
   "source": [
    "using Pkg; Pkg.activate(\"..\")\n",
    "using Geom4hep"
   ],
   "outputs": [
    {
     "output_type": "stream",
     "name": "stderr",
     "text": [
      "\u001b[32m\u001b[1m  Activating\u001b[22m\u001b[39m environment at `~/Development/VecGeom/Geom4hep/Project.toml`\n",
      "┌ Info: Precompiling Geom4hep [eb5d0804-93e0-431a-a4d4-b4f95b95575a]\n",
      "└ @ Base loading.jl:1342\n"
     ]
    }
   ],
   "metadata": {}
  },
  {
   "cell_type": "code",
   "execution_count": 2,
   "source": [
    "using Test\n",
    "pzero = Point3(0., 0., 0.)\n",
    "ponxside, ponyside, ponzside = Point3(20., 0., 0.), Point3(0., 30., 0.), Point3(0., 0., 40.)\n",
    "ponmxside, ponmyside, ponmzside = Point3(-20., 0., 0.), Point3(0., -30., 0.), Point3(0., 0., -40.)\n",
    "ponzsidey, ponmzsidey = Point3(0., 25., 40.), Point3(0., 25., -40.)\n",
    "\n",
    "b1 = Box(20., 30., 40.)\n",
    "b2 = Box(10., 10., 10.)\n",
    "box3 = Box(0.14999999999999999, 24.707000000000001, 22.699999999999999)\n",
    "\n",
    "pbigx = Point3(100., .0, 0.)\n",
    "pbigy = Point3(0., 100., 0.)\n",
    "pbigz = Point3(0., 0., 100.)\n",
    "pbigmx = Point3(-100., 0., 0.)\n",
    "pbigmy = Point3(0., -100., 0.)\n",
    "pbigmz = Point3(0., 0., -100.)\n",
    "\n",
    "vx = Vector3(1., 0., 0.)\n",
    "vy = Vector3(0., 1., 0.)\n",
    "vz = Vector3(0., 0., 1.)\n",
    "vmx = Vector3(-1., 0., 0.)\n",
    "vmy = Vector3(0., -1., 0.)\n",
    "vmz = Vector3(0., 0., -1.)\n",
    "vxy = Vector3(1/√2, 1/√2, 0.)\n",
    "vmxy = Vector3(-1/√2, 1/√2, 0.)\n",
    "vmxmy = Vector3(-1/√2, -1/√2, 0.)\n",
    "vxmy = Vector3(1/√2, -1/√2, 0.)\n",
    "vxmz = Vector3(1/√2, 0., -1/√2)\n"
   ],
   "outputs": [
    {
     "output_type": "execute_result",
     "data": {
      "text/plain": [
       "3-element StaticArrays.SVector{3, Float64} with indices SOneTo(3):\n",
       "  0.7071067811865475\n",
       "  0.0\n",
       " -0.7071067811865475"
      ]
     },
     "metadata": {},
     "execution_count": 2
    }
   ],
   "metadata": {}
  },
  {
   "cell_type": "code",
   "execution_count": null,
   "source": [
    "\n"
   ],
   "outputs": [],
   "metadata": {}
  },
  {
   "cell_type": "code",
   "execution_count": 3,
   "source": [
    "using LinearAlgebra\n",
    "bx = Box(1.,200., 200.)\n",
    "testp = Point3(1.,0.,0.) + 6e-15 * vx\n",
    "testv = normalize(Vector3(0.,1.,1.) - 4e-6 * vx)\n",
    "dist = distanceToIn(bx, testp, testv)\n",
    "@test isapprox(dist, 0, atol=1e-6)\n",
    "dist = distanceToOut(bx, testp, testv)\n",
    "@show mynormal(bx, testp + dist*testv)"
   ],
   "outputs": [
    {
     "output_type": "stream",
     "name": "stdout",
     "text": [
      "normal(bx, testp + dist * testv) = nothing\n"
     ]
    },
    {
     "output_type": "execute_result",
     "data": {
      "text/plain": [
       "3-element Point3{Float64} with indices SOneTo(3):\n",
       "  1.0000028284271307\n",
       " -0.7071067811837191\n",
       " -0.7071067811837191"
      ]
     },
     "metadata": {},
     "execution_count": 3
    }
   ],
   "metadata": {}
  },
  {
   "cell_type": "code",
   "execution_count": 7,
   "source": [
    "sqrt(eps())*norm(dist)"
   ],
   "outputs": [
    {
     "output_type": "execute_result",
     "data": {
      "text/plain": [
       "3.15848711018499e-17"
      ]
     },
     "metadata": {},
     "execution_count": 7
    }
   ],
   "metadata": {}
  },
  {
   "cell_type": "code",
   "execution_count": 134,
   "source": [
    "using LinearAlgebra\n",
    "# DistanceToIn(P,V)\n",
    "@test distanceToIn(b1, pbigx, vmx) ≈ 80\n",
    "@test distanceToIn(b1, pbigmx, vx) ≈ 80\n",
    "@test distanceToIn(b1, pbigy, vmy) ≈ 70\n",
    "@test distanceToIn(b1, pbigmy, vy) ≈ 70\n",
    "@test distanceToIn(b1, pbigz, vmz) ≈ 60\n",
    "@test distanceToIn(b1, pbigmz, vz) ≈ 60\n",
    "\n",
    "# testing a few special directions ( with special zero values )\n",
    "# important since we sometimes operate with sign bits etc.\n",
    "@test distanceToIn(b1, Point3(0., 0., -50.), Vector3(-0., 0., 1.)) ≈ 10\n",
    "@test distanceToIn(b1, Point3(0., 0., -50.), Vector3( 0.,-0., 1.)) ≈ 10\n",
    "@test distanceToIn(b1, Point3(0., 0.,  50.), Vector3( 0., 0.,-1.)) ≈ 10\n",
    "@test distanceToIn(b1, Point3(0., -40., 0.), Vector3( 0., 1., 0.)) ≈ 10\n",
    "@test distanceToIn(b1, Point3(0., -40., 0.), Vector3( 0., 1.,-0.)) ≈ 10\n",
    "@test distanceToIn(b1, Point3(0., -40., 0.), Vector3(-0., 1., 0.)) ≈ 10\n",
    "@test distanceToIn(b1, Point3(-30., 0., 0.), Vector3( 1.,-0., 0.)) ≈ 10\n",
    "@test distanceToIn(b1, Point3( 30,  0., 0.), Vector3(-1., 0.,-0.)) ≈ 10\n",
    "@test distanceToIn(b1, Point3(-30., 0., 0.), Vector3( 1.,-0.,-0.)) ≈ 10\n",
    "\n",
    "@test distanceToIn(b1, pbigx, vxy) ≈ Inf\n",
    "@test distanceToIn(b1, pbigmx, vxy) ≈ Inf\n",
    "\n",
    "pJohnXZ = Point3(9., 0., 12.)\n",
    "@test distanceToIn(b2, pJohnXZ, vxmz) ≈ Inf\n",
    "pJohnXY = Point3(12., 9., 0.)\n",
    "@test distanceToIn(b2, pJohnXY, vxmy) ≈ Inf\n",
    "@test distanceToIn(b2, pJohnXY, vmx) ≈ 2\n",
    "pMyXY = Point3(32., -11., 0.)\n",
    "@test distanceToIn(b2, pMyXY, vmxy) ≈ Inf\n",
    "@test distanceToIn(b1, Point3(-25., -35., 0.), vx) ≈ Inf\n",
    "@test distanceToIn(b1, Point3(-25., -35., 0.), vy) ≈ Inf\n",
    "@test distanceToIn(b2, pJohnXY, vmx) ≈ 2\n",
    "\n",
    "tempDir = normalize(Vector3(-0.76165597579890043, 0.64364445891356026, -0.074515708658524193))\n",
    "d = distanceToIn(box3, Point3(0.15000000185, -22.048743592955137, 2.4268539333219472), tempDir)\n",
    "@test isapprox(d, 0, atol=1e-6)\n",
    "\n",
    "# testing tolerance of DistanceToIn\n",
    "b4 = Box(5., 5., 5.)\n",
    "# a point very slightly inside should return 0\n",
    "tempDir = normalize(Vector3(0.76315134679548990437, 0.53698876104646497964, -0.35950395323836459305))\n",
    "@test distanceToIn(b4, Point3(-3.0087437277453119577, -5.0+kTolerance/2, 4.8935648380409944025), tempDir) <= 0.0\n",
    "\n",
    "\n",
    "# a point on the surface pointing outside must return infinity length\n",
    "@test distanceToIn(b2,Point3(10., 0., 0.), Vector3(1., 0., 0.)) == Inf\n",
    "@test distanceToIn(b2,Point3(10. - 0.9*eps(), 0., 0.), Vector3(1.,0.,0.)) >= Inf\n"
   ],
   "outputs": [
    {
     "output_type": "stream",
     "name": "stdout",
     "text": [
      "distance = 80.0\n",
      "distout = 120.0\n",
      "distsurf = 80.0\n",
      "distance = 80.0\n",
      "distout = 120.0\n",
      "distsurf = 80.0\n",
      "distance = 70.0\n",
      "distout = 130.0\n",
      "distsurf = 70.0\n",
      "distance = 70.0\n",
      "distout = 130.0\n",
      "distsurf = 70.0\n",
      "distance = 60.0\n",
      "distout = 140.0\n",
      "distsurf = 60.0\n",
      "distance = 60.0\n",
      "distout = 140.0\n",
      "distsurf = 60.0\n",
      "distance = 10.0\n",
      "distout = 90.0\n",
      "distsurf = 10.0\n",
      "distance = 10.0\n",
      "distout = 90.0\n",
      "distsurf = 10.0\n",
      "distance = 10.0\n",
      "distout = 90.0\n",
      "distsurf = 10.0\n",
      "distance = 10.0\n",
      "distout = 70.0\n",
      "distsurf = 10.0\n",
      "distance = 10.0\n",
      "distout = 70.0\n",
      "distsurf = 10.0\n",
      "distance = 10.0\n",
      "distout = 70.0\n",
      "distsurf = 10.0\n",
      "distance = 10.0\n",
      "distout = 50.0\n",
      "distsurf = 10.0\n",
      "distance = 10.0\n",
      "distout = 50.0\n",
      "distsurf = 10.0\n",
      "distance = 10.0\n",
      "distout = 50.0\n",
      "distsurf = 10.0\n",
      "distance = -42.42640687119285\n",
      "distout = -113.13708498984761\n",
      "distsurf = 80.0\n",
      "distance = 113.13708498984761\n",
      "distout = 42.42640687119285\n",
      "distsurf = 80.0\n",
      "distance = 2.8284271247461903\n",
      "distout = 1.4142135623730951\n",
      "distsurf = 2.0\n",
      "distance = -1.4142135623730951\n",
      "distout = -2.8284271247461903\n",
      "distsurf = 2.0\n",
      "distance = 2.0\n",
      "distout = 22.0\n",
      "distsurf = 2.0\n",
      "distance = 31.112698372208094\n",
      "distout = 29.698484809834998\n",
      "distsurf = 22.0\n",
      "distance = Inf\n",
      "distout = 45.0\n",
      "distsurf = 5.0\n",
      "distance = Inf\n",
      "distout = 65.0\n",
      "distsurf = 5.0\n",
      "distance = 2.0\n",
      "distout = 22.0\n",
      "distsurf = 2.0\n",
      "distance = 2.4288581497036415e-9\n",
      "distout = 0.3938688885272332\n",
      "distsurf = 1.8500000142918083e-9\n",
      "distance = -9.311182610150028e-10\n",
      "distout = 10.494305960900704\n",
      "distsurf = 5.000000413701855e-10\n",
      "distance = -20.0\n",
      "distout = 0.0\n",
      "distsurf = 0.0\n",
      "distance = -20.0\n",
      "distout = 0.0\n",
      "distsurf = 0.0\n"
     ]
    },
    {
     "output_type": "execute_result",
     "data": {
      "text/plain": [
       "\u001b[32m\u001b[1mTest Passed\u001b[22m\u001b[39m"
      ]
     },
     "metadata": {},
     "execution_count": 134
    }
   ],
   "metadata": {}
  },
  {
   "cell_type": "code",
   "execution_count": 105,
   "source": [
    "kTolerance = 1e-9\n",
    "kTolerance/2\n"
   ],
   "outputs": [
    {
     "output_type": "execute_result",
     "data": {
      "text/plain": [
       "5.0e-10"
      ]
     },
     "metadata": {},
     "execution_count": 105
    }
   ],
   "metadata": {}
  },
  {
   "cell_type": "code",
   "execution_count": 131,
   "source": [
    "@show pJohnXZ, vxmz\n",
    "distanceToIn(b2, pJohnXZ, vxmz)"
   ],
   "outputs": [
    {
     "output_type": "stream",
     "name": "stdout",
     "text": [
      "(pJohnXZ, vxmz) = ([9.0, 0.0, 12.0], [0.7071067811865475, 0.0, -0.7071067811865475])\n",
      "distance = 2.8284271247461903\n",
      "distout = 1.4142135623730951\n",
      "distsurf = 2.0\n"
     ]
    },
    {
     "output_type": "execute_result",
     "data": {
      "text/plain": [
       "Inf"
      ]
     },
     "metadata": {},
     "execution_count": 131
    }
   ],
   "metadata": {}
  },
  {
   "cell_type": "code",
   "execution_count": 124,
   "source": [
    "(distance >= distout || distout <= kTolerance/2 || distsurf <= kTolerance/2)"
   ],
   "outputs": [
    {
     "output_type": "error",
     "ename": "LoadError",
     "evalue": "UndefVarError: distance not defined",
     "traceback": [
      "UndefVarError: distance not defined",
      "",
      "Stacktrace:",
      " [1] top-level scope",
      "   @ In[124]:1",
      " [2] eval",
      "   @ ./boot.jl:360 [inlined]",
      " [3] include_string(mapexpr::typeof(REPL.softscope), mod::Module, code::String, filename::String)",
      "   @ Base ./loading.jl:1116"
     ]
    }
   ],
   "metadata": {}
  },
  {
   "cell_type": "code",
   "execution_count": null,
   "source": [],
   "outputs": [],
   "metadata": {}
  }
 ],
 "metadata": {
  "orig_nbformat": 4,
  "language_info": {
   "file_extension": ".jl",
   "name": "julia",
   "mimetype": "application/julia",
   "version": "1.6.2"
  },
  "kernelspec": {
   "name": "julia-1.6",
   "display_name": "julia 1.6.2",
   "language": "julia"
  }
 },
 "nbformat": 4,
 "nbformat_minor": 2
}