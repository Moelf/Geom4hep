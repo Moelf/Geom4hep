{
 "cells": [
  {
   "cell_type": "code",
   "execution_count": 1,
   "source": [
    "using Pkg; Pkg.activate(\"..\")\n",
    "using Revise\n",
    "using Geom4hep"
   ],
   "outputs": [
    {
     "output_type": "stream",
     "name": "stderr",
     "text": [
      "\u001b[32m\u001b[1m  Activating\u001b[22m\u001b[39m environment at `~/Development/VecGeom/Geom4hep/Project.toml`\n"
     ]
    }
   ],
   "metadata": {}
  },
  {
   "cell_type": "code",
   "execution_count": 10,
   "source": [
    "# Geometry construction\n",
    "world = Volume(\"world\", Box(100.,100.,100.), Material(\"vacuum\"))\n",
    "box = Volume(\"box\", Box(10.,10.,10.), Material(\"iron\"))\n",
    "placeDaughter!(world, Transformation3D(), box)"
   ],
   "outputs": [
    {
     "output_type": "execute_result",
     "data": {
      "text/plain": [
       "1-element Vector{Geom4hep.AbstractPlacedVolume{Float64}}:\n",
       " Geom4hep.PlacedVolume{Float64}(Transformation3D{Float64}([1.0 0.0 0.0; 0.0 1.0 0.0; 0.0 0.0 1.0], [0.0, 0.0, 0.0]), Volume{Float64}(\"box\", Box{Float64}([10.0, 10.0, 10.0]), Material{Float64}(\"iron\"), Geom4hep.AbstractPlacedVolume{Float64}[]))"
      ]
     },
     "metadata": {},
     "execution_count": 10
    }
   ],
   "metadata": {}
  },
  {
   "cell_type": "code",
   "execution_count": 22,
   "source": [
    "using GLMakie\n",
    "function draw(vol::Volume) \n",
    "    scene = mesh(toMesh(vol.shape), color=:grey, transparency=true, ambient=0.7)\n",
    "    for daughter in vol.daughters\n",
    "        mesh!(toMesh(daughter.volume.shape), color=:blue, transparency=true, ambient=0.7)\n",
    "    end\n",
    "    display(scene)\n",
    "end\n",
    "draw(world)"
   ],
   "outputs": [],
   "metadata": {}
  },
  {
   "cell_type": "code",
   "execution_count": null,
   "source": [],
   "outputs": [],
   "metadata": {}
  }
 ],
 "metadata": {
  "orig_nbformat": 4,
  "language_info": {
   "file_extension": ".jl",
   "name": "julia",
   "mimetype": "application/julia",
   "version": "1.6.2"
  },
  "kernelspec": {
   "name": "julia-1.6",
   "display_name": "julia 1.6.2",
   "language": "julia"
  }
 },
 "nbformat": 4,
 "nbformat_minor": 2
}